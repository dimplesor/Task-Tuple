{
 "cells": [
  {
   "cell_type": "markdown",
   "id": "3cce45bf-521f-4727-b1e3-ae2fe76f8692",
   "metadata": {},
   "source": [
    "# Tuple\n",
    "*The tuple() Function can use the tuple() constructor or function to create a tuple. It basically performs two functions as follows:\n",
    "\n",
    "*Creating an empty tuple if we give no arguments.\n",
    "*Creating a tuple with elements if we pass the arguments.\n"
   ]
  },
  {
   "cell_type": "code",
   "execution_count": 1,
   "id": "1bb157cb-7015-4e8d-a245-c8405326cf8f",
   "metadata": {},
   "outputs": [
    {
     "name": "stdout",
     "output_type": "stream",
     "text": [
      "(1, 2, 3, 4, 5)\n"
     ]
    }
   ],
   "source": [
    "a= [1, 2, 3, 4, 5]\n",
    "b = tuple(a)\n",
    "print(b)"
   ]
  },
  {
   "cell_type": "markdown",
   "id": "eb118f0d-457e-4c94-a489-f5c685050d49",
   "metadata": {},
   "source": [
    "# Len\n",
    "*The len() function is used to return the number of elements in a tuple.\n",
    "*It takes a tuple as an argument and returns an integer value representing the length of the tuple."
   ]
  },
  {
   "cell_type": "code",
   "execution_count": 3,
   "id": "70ef72d4-6dc3-4098-879b-770b8d89e969",
   "metadata": {},
   "outputs": [
    {
     "name": "stdout",
     "output_type": "stream",
     "text": [
      "5\n"
     ]
    }
   ],
   "source": [
    "fruit = (\"apple\", \"orange\", \"mango\", \"kiwi\", \"grapes\")\n",
    "print(len(fruit))"
   ]
  },
  {
   "cell_type": "markdown",
   "id": "5770c580-2234-47b8-ab26-88670c660404",
   "metadata": {},
   "source": [
    "# Max\n",
    "\n",
    "*The max() function is used to return the maximum value in a tuple. It takes a tuple as an argument and returns the maximum value in the tuple."
   ]
  },
  {
   "cell_type": "code",
   "execution_count": 4,
   "id": "0453af05-65b8-4951-90f0-5f9204abb0e7",
   "metadata": {},
   "outputs": [
    {
     "name": "stdout",
     "output_type": "stream",
     "text": [
      "989\n"
     ]
    }
   ],
   "source": [
    "number = (565, 86, 667, 598, 989)\n",
    "print(max(number))"
   ]
  },
  {
   "cell_type": "markdown",
   "id": "78c13788-994e-413a-8373-00ed8213020e",
   "metadata": {},
   "source": [
    "# Min\n",
    "*The min() function is used to return the minimum value in a tuple. It takes a tuple as an argument and returns the minimum value in the tuple."
   ]
  },
  {
   "cell_type": "code",
   "execution_count": 5,
   "id": "161dafe7-98d0-496a-afc8-d02a8bd6681b",
   "metadata": {},
   "outputs": [
    {
     "name": "stdout",
     "output_type": "stream",
     "text": [
      "5\n"
     ]
    }
   ],
   "source": [
    "val1 = (5, 10, 15, 20, 25,)\n",
    "print(min(val1))"
   ]
  },
  {
   "cell_type": "markdown",
   "id": "e865dfde-f282-4a10-9824-0e8afcc48a0c",
   "metadata": {},
   "source": [
    "# Sum\n",
    "*The sum() function is used to return the sum of all elements in a tuple.\n",
    "*It takes a tuple as an argument and returns the sum of all the elements in the tuple."
   ]
  },
  {
   "cell_type": "code",
   "execution_count": 6,
   "id": "e3e39fdf-ee30-4900-bf3c-9a1ada00dbe0",
   "metadata": {},
   "outputs": [
    {
     "name": "stdout",
     "output_type": "stream",
     "text": [
      "613\n"
     ]
    }
   ],
   "source": [
    "abc = (1, 20, 73, 84, 435)\n",
    "print(sum(abc))"
   ]
  },
  {
   "cell_type": "markdown",
   "id": "935f2283-5cd1-47e6-9cc0-6f74599b80e0",
   "metadata": {},
   "source": [
    "# Index\n",
    "*Index() function it returns the index of the first occurrence of a specified element in a tuple."
   ]
  },
  {
   "cell_type": "code",
   "execution_count": 7,
   "id": "ce378131-697f-4681-9ddb-81c1e05f3c32",
   "metadata": {},
   "outputs": [
    {
     "name": "stdout",
     "output_type": "stream",
     "text": [
      "2\n"
     ]
    }
   ],
   "source": [
    "fruits = ('apple', 'banana', 'orange', 'mango', 'banana')\n",
    "index = fruits.index('orange')\n",
    "print(index)"
   ]
  },
  {
   "cell_type": "markdown",
   "id": "e189fc6a-f36e-4755-a310-8f0ac6e1a61e",
   "metadata": {},
   "source": [
    "# Count\n",
    "* count() function it returns the number of times a specified element appears in a tuple."
   ]
  },
  {
   "cell_type": "code",
   "execution_count": 8,
   "id": "934d6cf1-51c4-4b2d-abcc-81cedac0646d",
   "metadata": {},
   "outputs": [
    {
     "name": "stdout",
     "output_type": "stream",
     "text": [
      "3\n"
     ]
    }
   ],
   "source": [
    "my_tuple = (1, 2, 3, 4, 3, 5, 3)\n",
    "count = my_tuple.count(3)\n",
    "print(count)\n"
   ]
  },
  {
   "cell_type": "markdown",
   "id": "8f5f63b2-5834-4950-b525-9de9a00bd1d2",
   "metadata": {},
   "source": [
    "# Concatenation\n",
    "*The 'CONCATENATION' are concatenate two tuples using the + operator."
   ]
  },
  {
   "cell_type": "code",
   "execution_count": 9,
   "id": "086a018e-3511-4006-a76d-c93bd2a1ee21",
   "metadata": {},
   "outputs": [
    {
     "name": "stdout",
     "output_type": "stream",
     "text": [
      "(1, 2, 3, 4, 5, 6, 7, 8, 9, 10, 11, 127, 137, 14, 775, 916, 17, 18, 989, 200)\n"
     ]
    }
   ],
   "source": [
    "val1 = (1, 2, 3,4,5,6,7,8,9)\n",
    "\n",
    "val2 = (10,11,127,137,14,775,916,17,18,989,200)\n",
    "\n",
    "concatenated_tuple = val1 + val2\n",
    "\n",
    "print(concatenated_tuple)  "
   ]
  },
  {
   "cell_type": "markdown",
   "id": "d87b21c1-c8a6-4ac0-8897-bda0ca27d7f9",
   "metadata": {},
   "source": [
    "# REPETITION\n",
    "* The 'REPETITION' is repeat a tuple for a given number of times using the * operator."
   ]
  },
  {
   "cell_type": "code",
   "execution_count": 11,
   "id": "18f95a55-a02c-4499-9316-e19abb1de685",
   "metadata": {},
   "outputs": [
    {
     "data": {
      "text/plain": [
       "(110, 548, 444, 877, 905)"
      ]
     },
     "execution_count": 11,
     "metadata": {},
     "output_type": "execute_result"
    }
   ],
   "source": [
    "tuple = (110, 548, 444, 877, 905)\n",
    "tuple"
   ]
  }
 ],
 "metadata": {
  "kernelspec": {
   "display_name": "Python 3 (ipykernel)",
   "language": "python",
   "name": "python3"
  },
  "language_info": {
   "codemirror_mode": {
    "name": "ipython",
    "version": 3
   },
   "file_extension": ".py",
   "mimetype": "text/x-python",
   "name": "python",
   "nbconvert_exporter": "python",
   "pygments_lexer": "ipython3",
   "version": "3.11.7"
  }
 },
 "nbformat": 4,
 "nbformat_minor": 5
}
